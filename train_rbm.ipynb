{
 "cells": [
  {
   "cell_type": "code",
   "execution_count": 1,
   "metadata": {},
   "outputs": [],
   "source": [
    "import torch\n",
    "from torch import nn, optim\n",
    "\n",
    "from rbm import RBM\n",
    "from torchvision.datasets import MNIST\n",
    "from torchvision.transforms import transforms\n",
    "from torch.utils.data import DataLoader"
   ]
  },
  {
   "cell_type": "code",
   "execution_count": 2,
   "metadata": {},
   "outputs": [],
   "source": [
    "EPOCHS = 20\n",
    "BATCH_SIZE = 128\n",
    "ETA = 1e-4"
   ]
  },
  {
   "cell_type": "code",
   "execution_count": 3,
   "metadata": {},
   "outputs": [],
   "source": [
    "transform = transforms.Compose([\n",
    "    transforms.ToTensor(),\n",
    "])"
   ]
  },
  {
   "cell_type": "code",
   "execution_count": 4,
   "metadata": {},
   "outputs": [],
   "source": [
    "train_data = MNIST(\"data/\", train=True, download=True, transform=transform)\n",
    "test_data = MNIST(\"data/\", train=False, download=True, transform=transform)"
   ]
  },
  {
   "cell_type": "code",
   "execution_count": 5,
   "metadata": {},
   "outputs": [],
   "source": [
    "train_dloader = DataLoader(train_data, batch_size=BATCH_SIZE, shuffle=True)\n",
    "test_dloader = DataLoader(test_data, batch_size=BATCH_SIZE, shuffle=False)"
   ]
  },
  {
   "cell_type": "code",
   "execution_count": 6,
   "metadata": {},
   "outputs": [],
   "source": [
    "model = RBM().cuda()\n",
    "criterion = nn.BCELoss()"
   ]
  },
  {
   "cell_type": "code",
   "execution_count": 7,
   "metadata": {},
   "outputs": [],
   "source": [
    "def fake_criterion(v0, v1):\n",
    "    Fv0 = model.free_energy(v0)\n",
    "    Fv0 = torch.mean(Fv0)\n",
    "\n",
    "    Fv1 = model.free_energy(v1)\n",
    "    Fv1 = torch.mean(Fv1)\n",
    "    \n",
    "    return Fv0 - Fv1"
   ]
  },
  {
   "cell_type": "code",
   "execution_count": 8,
   "metadata": {},
   "outputs": [],
   "source": [
    "def compute_loss(x0, x1):\n",
    "    return criterion(x1, x0).item()"
   ]
  },
  {
   "cell_type": "code",
   "execution_count": 9,
   "metadata": {},
   "outputs": [],
   "source": [
    "optimizer = optim.Adam(model.parameters(), lr=ETA)"
   ]
  },
  {
   "cell_type": "code",
   "execution_count": 10,
   "metadata": {},
   "outputs": [],
   "source": [
    "train_losses = []\n",
    "test_losses = []"
   ]
  },
  {
   "cell_type": "code",
   "execution_count": 11,
   "metadata": {},
   "outputs": [
    {
     "name": "stdout",
     "output_type": "stream",
     "text": [
      "Epochs 1/20\n",
      "Train fake loss: 2.92348221\n",
      "Test fake loss: 2.30106165\n",
      "Epochs 2/20\n",
      "Train fake loss: 1.86353517\n",
      "Test fake loss: 1.49107569\n",
      "Epochs 3/20\n",
      "Train fake loss: 1.22018700\n",
      "Test fake loss: 0.98322981\n",
      "Epochs 4/20\n",
      "Train fake loss: 0.80648154\n",
      "Test fake loss: 0.65105596\n",
      "Epochs 5/20\n",
      "Train fake loss: 0.53315495\n",
      "Test fake loss: 0.43136652\n",
      "Epochs 6/20\n",
      "Train fake loss: 0.35313445\n",
      "Test fake loss: 0.28555778\n",
      "Epochs 7/20\n",
      "Train fake loss: 0.23278553\n",
      "Test fake loss: 0.18941416\n",
      "Epochs 8/20\n",
      "Train fake loss: 0.15459509\n",
      "Test fake loss: 0.12509596\n",
      "Epochs 9/20\n",
      "Train fake loss: 0.10300008\n",
      "Test fake loss: 0.08395006\n",
      "Epochs 10/20\n",
      "Train fake loss: 0.06944512\n",
      "Test fake loss: 0.05655900\n",
      "Epochs 11/20\n",
      "Train fake loss: 0.04787075\n",
      "Test fake loss: 0.03975356\n",
      "Epochs 12/20\n",
      "Train fake loss: 0.03378822\n",
      "Test fake loss: 0.02883577\n",
      "Epochs 13/20\n",
      "Train fake loss: 0.02474201\n",
      "Test fake loss: 0.02182372\n",
      "Epochs 14/20\n",
      "Train fake loss: 0.01911300\n",
      "Test fake loss: 0.01717478\n",
      "Epochs 15/20\n",
      "Train fake loss: 0.01547652\n",
      "Test fake loss: 0.01407370\n",
      "Epochs 16/20\n",
      "Train fake loss: 0.01304913\n",
      "Test fake loss: 0.01234720\n",
      "Epochs 17/20\n",
      "Train fake loss: 0.01149779\n",
      "Test fake loss: 0.01105067\n",
      "Epochs 18/20\n",
      "Train fake loss: 0.01047069\n",
      "Test fake loss: 0.01025941\n",
      "Epochs 19/20\n",
      "Train fake loss: 0.00980870\n",
      "Test fake loss: 0.00961959\n",
      "Epochs 20/20\n",
      "Train fake loss: 0.00930561\n",
      "Test fake loss: 0.00925401\n"
     ]
    }
   ],
   "source": [
    "for e in range(EPOCHS):\n",
    "    train_loss = 0.0\n",
    "    test_loss = 0.0\n",
    "    \n",
    "    model.train()\n",
    "    \n",
    "    for x, y in train_dloader:\n",
    "        n = x.size(0)\n",
    "        v0 = x.cuda().view(n, -1)\n",
    "        v0 = v0 / 256\n",
    "        \n",
    "        with torch.no_grad():\n",
    "            v1, p_v1 = model(v0)\n",
    "            \n",
    "        loss = fake_criterion(v0, v1)\n",
    "        train_loss += compute_loss(v0, p_v1)\n",
    "        \n",
    "        optimizer.zero_grad()\n",
    "        loss.backward()\n",
    "        optimizer.step()\n",
    "        \n",
    "    with torch.no_grad():\n",
    "        model.eval()\n",
    "        for x, y in test_dloader:\n",
    "            n = x.size(0)\n",
    "            v0 = x.cuda().view(n, -1)\n",
    "            v0 = v0 / 256\n",
    "            \n",
    "            v1, p_v1 = model(v0)\n",
    "            \n",
    "            loss = criterion(v0, v1)\n",
    "            test_loss += compute_loss(v0, p_v1)\n",
    "            \n",
    "    train_loss /= len(train_dloader)\n",
    "    test_loss /= len(test_dloader)\n",
    "    \n",
    "    train_losses.append(train_loss)\n",
    "    test_losses.append(test_loss)\n",
    "    \n",
    "    print(f\"Epochs {e+1}/{EPOCHS}\")\n",
    "    print(f\"Train fake loss: {train_loss:.8f}\")\n",
    "    print(f\"Test fake loss: {test_loss:.8f}\")"
   ]
  },
  {
   "cell_type": "code",
   "execution_count": 12,
   "metadata": {},
   "outputs": [],
   "source": [
    "import matplotlib.pyplot as plt"
   ]
  },
  {
   "cell_type": "code",
   "execution_count": 15,
   "metadata": {},
   "outputs": [
    {
     "data": {
      "image/png": "[encoded data removed]",
      "text/plain": [
       "<Figure size 1152x576 with 2 Axes>"
      ]
     },
     "metadata": {
      "needs_background": "light"
     },
     "output_type": "display_data"
    }
   ],
   "source": [
    "plt.figure(figsize=(16, 8))\n",
    "\n",
    "plt.subplot(1, 2, 1)\n",
    "plt.plot(range(1, 21), train_losses)\n",
    "plt.title(\"Train loss\")\n",
    "plt.xlabel(\"Epochs\")\n",
    "plt.ylabel(\"Loss\")\n",
    "\n",
    "plt.subplot(1, 2, 2)\n",
    "plt.plot(range(1, 21), test_losses)\n",
    "plt.title(\"Test loss\")\n",
    "plt.xlabel(\"Epochs\")\n",
    "plt.ylabel(\"Loss\")\n",
    "\n",
    "plt.show()"
   ]
  },
  {
   "cell_type": "code",
   "execution_count": null,
   "metadata": {},
   "outputs": [],
   "source": []
  }
 ],
 "metadata": {
  "kernelspec": {
   "display_name": "Python 3",
   "language": "python",
   "name": "python3"
  },
  "language_info": {
   "codemirror_mode": {
    "name": "ipython",
    "version": 3
   },
   "file_extension": ".py",
   "mimetype": "text/x-python",
   "name": "python",
   "nbconvert_exporter": "python",
   "pygments_lexer": "ipython3",
   "version": "3.7.4"
  }
 },
 "nbformat": 4,
 "nbformat_minor": 4
}
